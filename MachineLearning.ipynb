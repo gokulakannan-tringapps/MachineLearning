{
  "nbformat": 4,
  "nbformat_minor": 0,
  "metadata": {
    "colab": {
      "provenance": []
    },
    "kernelspec": {
      "name": "python3",
      "display_name": "Python 3"
    },
    "language_info": {
      "name": "python"
    }
  },
  "cells": [
    {
      "cell_type": "code",
      "execution_count": 78,
      "metadata": {
        "id": "VDh3R0wjRPNV"
      },
      "outputs": [],
      "source": [
        "import pandas as pd\n",
        "import matplotlib.pyplot as plt\n",
        "from sklearn.model_selection import train_test_split\n",
        "import numpy as np\n",
        "from sklearn.model_selection import StratifiedShuffleSplit\n",
        "import seaborn as sns\n",
        "from sklearn.impute import SimpleImputer\n",
        "from sklearn.base import BaseEstimator, TransformerMixin"
      ]
    },
    {
      "cell_type": "code",
      "source": [
        "dataset=pd.read_csv('/content/housing.csv')\n",
        "dataset.head()"
      ],
      "metadata": {
        "colab": {
          "base_uri": "https://localhost:8080/",
          "height": 206
        },
        "id": "4BAUcopcRbn1",
        "outputId": "2dc4e42a-dfee-405f-99cc-dbd9c5cb8840"
      },
      "execution_count": 2,
      "outputs": [
        {
          "output_type": "execute_result",
          "data": {
            "text/plain": [
              "   longitude  latitude  housing_median_age  total_rooms  total_bedrooms  \\\n",
              "0    -122.23     37.88                41.0        880.0           129.0   \n",
              "1    -122.22     37.86                21.0       7099.0          1106.0   \n",
              "2    -122.24     37.85                52.0       1467.0           190.0   \n",
              "3    -122.25     37.85                52.0       1274.0           235.0   \n",
              "4    -122.25     37.85                52.0       1627.0           280.0   \n",
              "\n",
              "   population  households  median_income  median_house_value ocean_proximity  \n",
              "0       322.0       126.0         8.3252            452600.0        NEAR BAY  \n",
              "1      2401.0      1138.0         8.3014            358500.0        NEAR BAY  \n",
              "2       496.0       177.0         7.2574            352100.0        NEAR BAY  \n",
              "3       558.0       219.0         5.6431            341300.0        NEAR BAY  \n",
              "4       565.0       259.0         3.8462            342200.0        NEAR BAY  "
            ],
            "text/html": [
              "\n",
              "  <div id=\"df-03f27df8-725b-4a04-ade6-00d07a2213fd\">\n",
              "    <div class=\"colab-df-container\">\n",
              "      <div>\n",
              "<style scoped>\n",
              "    .dataframe tbody tr th:only-of-type {\n",
              "        vertical-align: middle;\n",
              "    }\n",
              "\n",
              "    .dataframe tbody tr th {\n",
              "        vertical-align: top;\n",
              "    }\n",
              "\n",
              "    .dataframe thead th {\n",
              "        text-align: right;\n",
              "    }\n",
              "</style>\n",
              "<table border=\"1\" class=\"dataframe\">\n",
              "  <thead>\n",
              "    <tr style=\"text-align: right;\">\n",
              "      <th></th>\n",
              "      <th>longitude</th>\n",
              "      <th>latitude</th>\n",
              "      <th>housing_median_age</th>\n",
              "      <th>total_rooms</th>\n",
              "      <th>total_bedrooms</th>\n",
              "      <th>population</th>\n",
              "      <th>households</th>\n",
              "      <th>median_income</th>\n",
              "      <th>median_house_value</th>\n",
              "      <th>ocean_proximity</th>\n",
              "    </tr>\n",
              "  </thead>\n",
              "  <tbody>\n",
              "    <tr>\n",
              "      <th>0</th>\n",
              "      <td>-122.23</td>\n",
              "      <td>37.88</td>\n",
              "      <td>41.0</td>\n",
              "      <td>880.0</td>\n",
              "      <td>129.0</td>\n",
              "      <td>322.0</td>\n",
              "      <td>126.0</td>\n",
              "      <td>8.3252</td>\n",
              "      <td>452600.0</td>\n",
              "      <td>NEAR BAY</td>\n",
              "    </tr>\n",
              "    <tr>\n",
              "      <th>1</th>\n",
              "      <td>-122.22</td>\n",
              "      <td>37.86</td>\n",
              "      <td>21.0</td>\n",
              "      <td>7099.0</td>\n",
              "      <td>1106.0</td>\n",
              "      <td>2401.0</td>\n",
              "      <td>1138.0</td>\n",
              "      <td>8.3014</td>\n",
              "      <td>358500.0</td>\n",
              "      <td>NEAR BAY</td>\n",
              "    </tr>\n",
              "    <tr>\n",
              "      <th>2</th>\n",
              "      <td>-122.24</td>\n",
              "      <td>37.85</td>\n",
              "      <td>52.0</td>\n",
              "      <td>1467.0</td>\n",
              "      <td>190.0</td>\n",
              "      <td>496.0</td>\n",
              "      <td>177.0</td>\n",
              "      <td>7.2574</td>\n",
              "      <td>352100.0</td>\n",
              "      <td>NEAR BAY</td>\n",
              "    </tr>\n",
              "    <tr>\n",
              "      <th>3</th>\n",
              "      <td>-122.25</td>\n",
              "      <td>37.85</td>\n",
              "      <td>52.0</td>\n",
              "      <td>1274.0</td>\n",
              "      <td>235.0</td>\n",
              "      <td>558.0</td>\n",
              "      <td>219.0</td>\n",
              "      <td>5.6431</td>\n",
              "      <td>341300.0</td>\n",
              "      <td>NEAR BAY</td>\n",
              "    </tr>\n",
              "    <tr>\n",
              "      <th>4</th>\n",
              "      <td>-122.25</td>\n",
              "      <td>37.85</td>\n",
              "      <td>52.0</td>\n",
              "      <td>1627.0</td>\n",
              "      <td>280.0</td>\n",
              "      <td>565.0</td>\n",
              "      <td>259.0</td>\n",
              "      <td>3.8462</td>\n",
              "      <td>342200.0</td>\n",
              "      <td>NEAR BAY</td>\n",
              "    </tr>\n",
              "  </tbody>\n",
              "</table>\n",
              "</div>\n",
              "      <button class=\"colab-df-convert\" onclick=\"convertToInteractive('df-03f27df8-725b-4a04-ade6-00d07a2213fd')\"\n",
              "              title=\"Convert this dataframe to an interactive table.\"\n",
              "              style=\"display:none;\">\n",
              "        \n",
              "  <svg xmlns=\"http://www.w3.org/2000/svg\" height=\"24px\"viewBox=\"0 0 24 24\"\n",
              "       width=\"24px\">\n",
              "    <path d=\"M0 0h24v24H0V0z\" fill=\"none\"/>\n",
              "    <path d=\"M18.56 5.44l.94 2.06.94-2.06 2.06-.94-2.06-.94-.94-2.06-.94 2.06-2.06.94zm-11 1L8.5 8.5l.94-2.06 2.06-.94-2.06-.94L8.5 2.5l-.94 2.06-2.06.94zm10 10l.94 2.06.94-2.06 2.06-.94-2.06-.94-.94-2.06-.94 2.06-2.06.94z\"/><path d=\"M17.41 7.96l-1.37-1.37c-.4-.4-.92-.59-1.43-.59-.52 0-1.04.2-1.43.59L10.3 9.45l-7.72 7.72c-.78.78-.78 2.05 0 2.83L4 21.41c.39.39.9.59 1.41.59.51 0 1.02-.2 1.41-.59l7.78-7.78 2.81-2.81c.8-.78.8-2.07 0-2.86zM5.41 20L4 18.59l7.72-7.72 1.47 1.35L5.41 20z\"/>\n",
              "  </svg>\n",
              "      </button>\n",
              "      \n",
              "  <style>\n",
              "    .colab-df-container {\n",
              "      display:flex;\n",
              "      flex-wrap:wrap;\n",
              "      gap: 12px;\n",
              "    }\n",
              "\n",
              "    .colab-df-convert {\n",
              "      background-color: #E8F0FE;\n",
              "      border: none;\n",
              "      border-radius: 50%;\n",
              "      cursor: pointer;\n",
              "      display: none;\n",
              "      fill: #1967D2;\n",
              "      height: 32px;\n",
              "      padding: 0 0 0 0;\n",
              "      width: 32px;\n",
              "    }\n",
              "\n",
              "    .colab-df-convert:hover {\n",
              "      background-color: #E2EBFA;\n",
              "      box-shadow: 0px 1px 2px rgba(60, 64, 67, 0.3), 0px 1px 3px 1px rgba(60, 64, 67, 0.15);\n",
              "      fill: #174EA6;\n",
              "    }\n",
              "\n",
              "    [theme=dark] .colab-df-convert {\n",
              "      background-color: #3B4455;\n",
              "      fill: #D2E3FC;\n",
              "    }\n",
              "\n",
              "    [theme=dark] .colab-df-convert:hover {\n",
              "      background-color: #434B5C;\n",
              "      box-shadow: 0px 1px 3px 1px rgba(0, 0, 0, 0.15);\n",
              "      filter: drop-shadow(0px 1px 2px rgba(0, 0, 0, 0.3));\n",
              "      fill: #FFFFFF;\n",
              "    }\n",
              "  </style>\n",
              "\n",
              "      <script>\n",
              "        const buttonEl =\n",
              "          document.querySelector('#df-03f27df8-725b-4a04-ade6-00d07a2213fd button.colab-df-convert');\n",
              "        buttonEl.style.display =\n",
              "          google.colab.kernel.accessAllowed ? 'block' : 'none';\n",
              "\n",
              "        async function convertToInteractive(key) {\n",
              "          const element = document.querySelector('#df-03f27df8-725b-4a04-ade6-00d07a2213fd');\n",
              "          const dataTable =\n",
              "            await google.colab.kernel.invokeFunction('convertToInteractive',\n",
              "                                                     [key], {});\n",
              "          if (!dataTable) return;\n",
              "\n",
              "          const docLinkHtml = 'Like what you see? Visit the ' +\n",
              "            '<a target=\"_blank\" href=https://colab.research.google.com/notebooks/data_table.ipynb>data table notebook</a>'\n",
              "            + ' to learn more about interactive tables.';\n",
              "          element.innerHTML = '';\n",
              "          dataTable['output_type'] = 'display_data';\n",
              "          await google.colab.output.renderOutput(dataTable, element);\n",
              "          const docLink = document.createElement('div');\n",
              "          docLink.innerHTML = docLinkHtml;\n",
              "          element.appendChild(docLink);\n",
              "        }\n",
              "      </script>\n",
              "    </div>\n",
              "  </div>\n",
              "  "
            ]
          },
          "metadata": {},
          "execution_count": 2
        }
      ]
    },
    {
      "cell_type": "code",
      "source": [
        "print(dataset.shape)"
      ],
      "metadata": {
        "colab": {
          "base_uri": "https://localhost:8080/"
        },
        "id": "J4p74quNTbH2",
        "outputId": "6a936f23-72e9-453e-afd2-77f624240f40"
      },
      "execution_count": 3,
      "outputs": [
        {
          "output_type": "stream",
          "name": "stdout",
          "text": [
            "(20640, 10)\n"
          ]
        }
      ]
    },
    {
      "cell_type": "code",
      "source": [
        "dataset.describe()"
      ],
      "metadata": {
        "colab": {
          "base_uri": "https://localhost:8080/",
          "height": 300
        },
        "id": "g39XhywNcmk4",
        "outputId": "72332516-f90e-42b6-cffa-70c554d13cac"
      },
      "execution_count": 35,
      "outputs": [
        {
          "output_type": "execute_result",
          "data": {
            "text/plain": [
              "          longitude      latitude  housing_median_age   total_rooms  \\\n",
              "count  20640.000000  20640.000000        20640.000000  20640.000000   \n",
              "mean    -119.569704     35.631861           28.639486   2635.763081   \n",
              "std        2.003532      2.135952           12.585558   2181.615252   \n",
              "min     -124.350000     32.540000            1.000000      2.000000   \n",
              "25%     -121.800000     33.930000           18.000000   1447.750000   \n",
              "50%     -118.490000     34.260000           29.000000   2127.000000   \n",
              "75%     -118.010000     37.710000           37.000000   3148.000000   \n",
              "max     -114.310000     41.950000           52.000000  39320.000000   \n",
              "\n",
              "       total_bedrooms    population    households  median_income  \\\n",
              "count    20433.000000  20640.000000  20640.000000   20640.000000   \n",
              "mean       537.870553   1425.476744    499.539680       3.870671   \n",
              "std        421.385070   1132.462122    382.329753       1.899822   \n",
              "min          1.000000      3.000000      1.000000       0.499900   \n",
              "25%        296.000000    787.000000    280.000000       2.563400   \n",
              "50%        435.000000   1166.000000    409.000000       3.534800   \n",
              "75%        647.000000   1725.000000    605.000000       4.743250   \n",
              "max       6445.000000  35682.000000   6082.000000      15.000100   \n",
              "\n",
              "       median_house_value  \n",
              "count        20640.000000  \n",
              "mean        206855.816909  \n",
              "std         115395.615874  \n",
              "min          14999.000000  \n",
              "25%         119600.000000  \n",
              "50%         179700.000000  \n",
              "75%         264725.000000  \n",
              "max         500001.000000  "
            ],
            "text/html": [
              "\n",
              "  <div id=\"df-cd12fb07-22bf-4d1c-a2d6-39b7b40c565e\">\n",
              "    <div class=\"colab-df-container\">\n",
              "      <div>\n",
              "<style scoped>\n",
              "    .dataframe tbody tr th:only-of-type {\n",
              "        vertical-align: middle;\n",
              "    }\n",
              "\n",
              "    .dataframe tbody tr th {\n",
              "        vertical-align: top;\n",
              "    }\n",
              "\n",
              "    .dataframe thead th {\n",
              "        text-align: right;\n",
              "    }\n",
              "</style>\n",
              "<table border=\"1\" class=\"dataframe\">\n",
              "  <thead>\n",
              "    <tr style=\"text-align: right;\">\n",
              "      <th></th>\n",
              "      <th>longitude</th>\n",
              "      <th>latitude</th>\n",
              "      <th>housing_median_age</th>\n",
              "      <th>total_rooms</th>\n",
              "      <th>total_bedrooms</th>\n",
              "      <th>population</th>\n",
              "      <th>households</th>\n",
              "      <th>median_income</th>\n",
              "      <th>median_house_value</th>\n",
              "    </tr>\n",
              "  </thead>\n",
              "  <tbody>\n",
              "    <tr>\n",
              "      <th>count</th>\n",
              "      <td>20640.000000</td>\n",
              "      <td>20640.000000</td>\n",
              "      <td>20640.000000</td>\n",
              "      <td>20640.000000</td>\n",
              "      <td>20433.000000</td>\n",
              "      <td>20640.000000</td>\n",
              "      <td>20640.000000</td>\n",
              "      <td>20640.000000</td>\n",
              "      <td>20640.000000</td>\n",
              "    </tr>\n",
              "    <tr>\n",
              "      <th>mean</th>\n",
              "      <td>-119.569704</td>\n",
              "      <td>35.631861</td>\n",
              "      <td>28.639486</td>\n",
              "      <td>2635.763081</td>\n",
              "      <td>537.870553</td>\n",
              "      <td>1425.476744</td>\n",
              "      <td>499.539680</td>\n",
              "      <td>3.870671</td>\n",
              "      <td>206855.816909</td>\n",
              "    </tr>\n",
              "    <tr>\n",
              "      <th>std</th>\n",
              "      <td>2.003532</td>\n",
              "      <td>2.135952</td>\n",
              "      <td>12.585558</td>\n",
              "      <td>2181.615252</td>\n",
              "      <td>421.385070</td>\n",
              "      <td>1132.462122</td>\n",
              "      <td>382.329753</td>\n",
              "      <td>1.899822</td>\n",
              "      <td>115395.615874</td>\n",
              "    </tr>\n",
              "    <tr>\n",
              "      <th>min</th>\n",
              "      <td>-124.350000</td>\n",
              "      <td>32.540000</td>\n",
              "      <td>1.000000</td>\n",
              "      <td>2.000000</td>\n",
              "      <td>1.000000</td>\n",
              "      <td>3.000000</td>\n",
              "      <td>1.000000</td>\n",
              "      <td>0.499900</td>\n",
              "      <td>14999.000000</td>\n",
              "    </tr>\n",
              "    <tr>\n",
              "      <th>25%</th>\n",
              "      <td>-121.800000</td>\n",
              "      <td>33.930000</td>\n",
              "      <td>18.000000</td>\n",
              "      <td>1447.750000</td>\n",
              "      <td>296.000000</td>\n",
              "      <td>787.000000</td>\n",
              "      <td>280.000000</td>\n",
              "      <td>2.563400</td>\n",
              "      <td>119600.000000</td>\n",
              "    </tr>\n",
              "    <tr>\n",
              "      <th>50%</th>\n",
              "      <td>-118.490000</td>\n",
              "      <td>34.260000</td>\n",
              "      <td>29.000000</td>\n",
              "      <td>2127.000000</td>\n",
              "      <td>435.000000</td>\n",
              "      <td>1166.000000</td>\n",
              "      <td>409.000000</td>\n",
              "      <td>3.534800</td>\n",
              "      <td>179700.000000</td>\n",
              "    </tr>\n",
              "    <tr>\n",
              "      <th>75%</th>\n",
              "      <td>-118.010000</td>\n",
              "      <td>37.710000</td>\n",
              "      <td>37.000000</td>\n",
              "      <td>3148.000000</td>\n",
              "      <td>647.000000</td>\n",
              "      <td>1725.000000</td>\n",
              "      <td>605.000000</td>\n",
              "      <td>4.743250</td>\n",
              "      <td>264725.000000</td>\n",
              "    </tr>\n",
              "    <tr>\n",
              "      <th>max</th>\n",
              "      <td>-114.310000</td>\n",
              "      <td>41.950000</td>\n",
              "      <td>52.000000</td>\n",
              "      <td>39320.000000</td>\n",
              "      <td>6445.000000</td>\n",
              "      <td>35682.000000</td>\n",
              "      <td>6082.000000</td>\n",
              "      <td>15.000100</td>\n",
              "      <td>500001.000000</td>\n",
              "    </tr>\n",
              "  </tbody>\n",
              "</table>\n",
              "</div>\n",
              "      <button class=\"colab-df-convert\" onclick=\"convertToInteractive('df-cd12fb07-22bf-4d1c-a2d6-39b7b40c565e')\"\n",
              "              title=\"Convert this dataframe to an interactive table.\"\n",
              "              style=\"display:none;\">\n",
              "        \n",
              "  <svg xmlns=\"http://www.w3.org/2000/svg\" height=\"24px\"viewBox=\"0 0 24 24\"\n",
              "       width=\"24px\">\n",
              "    <path d=\"M0 0h24v24H0V0z\" fill=\"none\"/>\n",
              "    <path d=\"M18.56 5.44l.94 2.06.94-2.06 2.06-.94-2.06-.94-.94-2.06-.94 2.06-2.06.94zm-11 1L8.5 8.5l.94-2.06 2.06-.94-2.06-.94L8.5 2.5l-.94 2.06-2.06.94zm10 10l.94 2.06.94-2.06 2.06-.94-2.06-.94-.94-2.06-.94 2.06-2.06.94z\"/><path d=\"M17.41 7.96l-1.37-1.37c-.4-.4-.92-.59-1.43-.59-.52 0-1.04.2-1.43.59L10.3 9.45l-7.72 7.72c-.78.78-.78 2.05 0 2.83L4 21.41c.39.39.9.59 1.41.59.51 0 1.02-.2 1.41-.59l7.78-7.78 2.81-2.81c.8-.78.8-2.07 0-2.86zM5.41 20L4 18.59l7.72-7.72 1.47 1.35L5.41 20z\"/>\n",
              "  </svg>\n",
              "      </button>\n",
              "      \n",
              "  <style>\n",
              "    .colab-df-container {\n",
              "      display:flex;\n",
              "      flex-wrap:wrap;\n",
              "      gap: 12px;\n",
              "    }\n",
              "\n",
              "    .colab-df-convert {\n",
              "      background-color: #E8F0FE;\n",
              "      border: none;\n",
              "      border-radius: 50%;\n",
              "      cursor: pointer;\n",
              "      display: none;\n",
              "      fill: #1967D2;\n",
              "      height: 32px;\n",
              "      padding: 0 0 0 0;\n",
              "      width: 32px;\n",
              "    }\n",
              "\n",
              "    .colab-df-convert:hover {\n",
              "      background-color: #E2EBFA;\n",
              "      box-shadow: 0px 1px 2px rgba(60, 64, 67, 0.3), 0px 1px 3px 1px rgba(60, 64, 67, 0.15);\n",
              "      fill: #174EA6;\n",
              "    }\n",
              "\n",
              "    [theme=dark] .colab-df-convert {\n",
              "      background-color: #3B4455;\n",
              "      fill: #D2E3FC;\n",
              "    }\n",
              "\n",
              "    [theme=dark] .colab-df-convert:hover {\n",
              "      background-color: #434B5C;\n",
              "      box-shadow: 0px 1px 3px 1px rgba(0, 0, 0, 0.15);\n",
              "      filter: drop-shadow(0px 1px 2px rgba(0, 0, 0, 0.3));\n",
              "      fill: #FFFFFF;\n",
              "    }\n",
              "  </style>\n",
              "\n",
              "      <script>\n",
              "        const buttonEl =\n",
              "          document.querySelector('#df-cd12fb07-22bf-4d1c-a2d6-39b7b40c565e button.colab-df-convert');\n",
              "        buttonEl.style.display =\n",
              "          google.colab.kernel.accessAllowed ? 'block' : 'none';\n",
              "\n",
              "        async function convertToInteractive(key) {\n",
              "          const element = document.querySelector('#df-cd12fb07-22bf-4d1c-a2d6-39b7b40c565e');\n",
              "          const dataTable =\n",
              "            await google.colab.kernel.invokeFunction('convertToInteractive',\n",
              "                                                     [key], {});\n",
              "          if (!dataTable) return;\n",
              "\n",
              "          const docLinkHtml = 'Like what you see? Visit the ' +\n",
              "            '<a target=\"_blank\" href=https://colab.research.google.com/notebooks/data_table.ipynb>data table notebook</a>'\n",
              "            + ' to learn more about interactive tables.';\n",
              "          element.innerHTML = '';\n",
              "          dataTable['output_type'] = 'display_data';\n",
              "          await google.colab.output.renderOutput(dataTable, element);\n",
              "          const docLink = document.createElement('div');\n",
              "          docLink.innerHTML = docLinkHtml;\n",
              "          element.appendChild(docLink);\n",
              "        }\n",
              "      </script>\n",
              "    </div>\n",
              "  </div>\n",
              "  "
            ]
          },
          "metadata": {},
          "execution_count": 35
        }
      ]
    },
    {
      "cell_type": "code",
      "source": [
        "dataset.info()"
      ],
      "metadata": {
        "colab": {
          "base_uri": "https://localhost:8080/"
        },
        "id": "1DeTY3IUcOv-",
        "outputId": "b8938c6b-d1f8-4dd6-a082-941270e16e47"
      },
      "execution_count": 33,
      "outputs": [
        {
          "output_type": "stream",
          "name": "stdout",
          "text": [
            "<class 'pandas.core.frame.DataFrame'>\n",
            "RangeIndex: 20640 entries, 0 to 20639\n",
            "Data columns (total 10 columns):\n",
            " #   Column              Non-Null Count  Dtype  \n",
            "---  ------              --------------  -----  \n",
            " 0   longitude           20640 non-null  float64\n",
            " 1   latitude            20640 non-null  float64\n",
            " 2   housing_median_age  20640 non-null  float64\n",
            " 3   total_rooms         20640 non-null  float64\n",
            " 4   total_bedrooms      20433 non-null  float64\n",
            " 5   population          20640 non-null  float64\n",
            " 6   households          20640 non-null  float64\n",
            " 7   median_income       20640 non-null  float64\n",
            " 8   median_house_value  20640 non-null  float64\n",
            " 9   ocean_proximity     20640 non-null  object \n",
            "dtypes: float64(9), object(1)\n",
            "memory usage: 1.6+ MB\n"
          ]
        }
      ]
    },
    {
      "cell_type": "code",
      "source": [
        "dataset[\"ocean_proximity\"].value_counts()"
      ],
      "metadata": {
        "colab": {
          "base_uri": "https://localhost:8080/"
        },
        "id": "J4Y7AWelcVRk",
        "outputId": "9524e4fb-fe6d-4451-cd10-241531b41b1d"
      },
      "execution_count": 34,
      "outputs": [
        {
          "output_type": "execute_result",
          "data": {
            "text/plain": [
              "<1H OCEAN     9136\n",
              "INLAND        6551\n",
              "NEAR OCEAN    2658\n",
              "NEAR BAY      2290\n",
              "ISLAND           5\n",
              "Name: ocean_proximity, dtype: int64"
            ]
          },
          "metadata": {},
          "execution_count": 34
        }
      ]
    },
    {
      "cell_type": "code",
      "source": [
        "dataset.hist(bins=50, figsize=(20,15))\n",
        "plt.show()"
      ],
      "metadata": {
        "colab": {
          "base_uri": "https://localhost:8080/",
          "height": 879
        },
        "id": "8kFdJcdickcy",
        "outputId": "2e846cf9-91d2-4eff-aa25-4fbeef8d038a"
      },
      "execution_count": 37,
      "outputs": [
        {
          "output_type": "display_data",
          "data": {
            "text/plain": [
              "<Figure size 1440x1080 with 9 Axes>"
            ],
            "image/png": "[encoded data removed]"
          },
          "metadata": {
            "needs_background": "light"
          }
        }
      ]
    },
    {
      "cell_type": "code",
      "source": [
        "train_data, test_data= train_test_split(dataset, test_size=0.20, random_state=0)"
      ],
      "metadata": {
        "id": "NHoJUMc_dnJJ"
      },
      "execution_count": 38,
      "outputs": []
    },
    {
      "cell_type": "code",
      "source": [
        "print(train_data.shape)"
      ],
      "metadata": {
        "colab": {
          "base_uri": "https://localhost:8080/"
        },
        "id": "69O40MYAd1Qn",
        "outputId": "a957c041-8ed6-43e8-a0f3-90c2a39184e5"
      },
      "execution_count": 42,
      "outputs": [
        {
          "output_type": "stream",
          "name": "stdout",
          "text": [
            "(16512, 10)\n"
          ]
        }
      ]
    },
    {
      "cell_type": "code",
      "source": [],
      "metadata": {
        "id": "KzVx-FJTqyWb"
      },
      "execution_count": null,
      "outputs": []
    },
    {
      "cell_type": "code",
      "source": [
        "print(test_data.shape)"
      ],
      "metadata": {
        "colab": {
          "base_uri": "https://localhost:8080/"
        },
        "id": "ys_1VRgLeESW",
        "outputId": "d1ed85ec-7eb4-4cc9-cabe-2490f7bb64e6"
      },
      "execution_count": 43,
      "outputs": [
        {
          "output_type": "stream",
          "name": "stdout",
          "text": [
            "(4128, 10)\n"
          ]
        }
      ]
    },
    {
      "cell_type": "code",
      "source": [
        "corr_matrix = dataset.corr()\n",
        "corr_matrix[\"median_house_value\"].sort_values(ascending=False)"
      ],
      "metadata": {
        "colab": {
          "base_uri": "https://localhost:8080/"
        },
        "id": "kxKBipIbgfwp",
        "outputId": "e636d902-7e2d-4984-cec3-8dca4594fb82"
      },
      "execution_count": 56,
      "outputs": [
        {
          "output_type": "execute_result",
          "data": {
            "text/plain": [
              "median_house_value    1.000000\n",
              "median_income         0.688075\n",
              "total_rooms           0.134153\n",
              "housing_median_age    0.105623\n",
              "households            0.065843\n",
              "total_bedrooms        0.049686\n",
              "population           -0.024650\n",
              "longitude            -0.045967\n",
              "latitude             -0.144160\n",
              "Name: median_house_value, dtype: float64"
            ]
          },
          "metadata": {},
          "execution_count": 56
        }
      ]
    },
    {
      "cell_type": "code",
      "source": [
        "dataset[\"rooms_per_household\"] = dataset[\"total_rooms\"]/dataset[\"households\"]"
      ],
      "metadata": {
        "id": "qGpVkZ1oiDts"
      },
      "execution_count": 62,
      "outputs": []
    },
    {
      "cell_type": "code",
      "source": [
        "dataset[\"bedrooms_per_room\"] = dataset[\"total_bedrooms\"]/dataset[\"total_rooms\"]"
      ],
      "metadata": {
        "id": "T-fBqKx2iqs7"
      },
      "execution_count": 63,
      "outputs": []
    },
    {
      "cell_type": "code",
      "source": [
        "dataset[\"population_per_household\"] = dataset[\"population\"]/dataset[\"households\"]"
      ],
      "metadata": {
        "id": "k2mrm1Kgi4Ua"
      },
      "execution_count": 64,
      "outputs": []
    },
    {
      "cell_type": "code",
      "source": [
        "corr_matrix = dataset.corr()\n",
        "corr_matrix[\"median_house_value\"].sort_values(ascending=False)"
      ],
      "metadata": {
        "colab": {
          "base_uri": "https://localhost:8080/"
        },
        "id": "VztzbNm5i_kz",
        "outputId": "8ff5554e-f814-493b-9ff8-03317a5b1e08"
      },
      "execution_count": 65,
      "outputs": [
        {
          "output_type": "execute_result",
          "data": {
            "text/plain": [
              "median_house_value          1.000000\n",
              "median_income               0.688075\n",
              "rooms_per_household         0.151948\n",
              "total_rooms                 0.134153\n",
              "housing_median_age          0.105623\n",
              "households                  0.065843\n",
              "total_bedrooms              0.049686\n",
              "population_per_household   -0.023737\n",
              "population                 -0.024650\n",
              "longitude                  -0.045967\n",
              "latitude                   -0.144160\n",
              "bedrooms_per_room          -0.255880\n",
              "Name: median_house_value, dtype: float64"
            ]
          },
          "metadata": {},
          "execution_count": 65
        }
      ]
    },
    {
      "cell_type": "code",
      "source": [
        "dataset= strat_train_set.drop(\"median_house_value\", axis=1)\n",
        "dataset_labels = strat_train_set[\"median_house_value\"].copy()"
      ],
      "metadata": {
        "id": "2sa6yXj1jPez"
      },
      "execution_count": 66,
      "outputs": []
    },
    {
      "cell_type": "code",
      "source": [
        "imputer = SimpleImputer(strategy=\"median\")\n",
        "housing_num = dataset.drop(\"ocean_proximity\", axis=1)\n",
        "imputer.fit(housing_num)"
      ],
      "metadata": {
        "colab": {
          "base_uri": "https://localhost:8080/"
        },
        "id": "bNxVkWlNjYgk",
        "outputId": "8742ed97-b302-4a46-8321-bae7edf40f38"
      },
      "execution_count": 68,
      "outputs": [
        {
          "output_type": "execute_result",
          "data": {
            "text/plain": [
              "SimpleImputer(strategy='median')"
            ]
          },
          "metadata": {},
          "execution_count": 68
        }
      ]
    },
    {
      "cell_type": "code",
      "source": [
        "imputer.statistics_\n",
        "housing_num.median().values"
      ],
      "metadata": {
        "colab": {
          "base_uri": "https://localhost:8080/"
        },
        "id": "n_7VM5f6jvuz",
        "outputId": "95d4580d-96ff-4f52-db5d-bedf982fee46"
      },
      "execution_count": 69,
      "outputs": [
        {
          "output_type": "execute_result",
          "data": {
            "text/plain": [
              "array([-118.49  ,   34.25  ,   29.    , 2129.    ,  436.    , 1167.    ,\n",
              "        410.    ,    3.5343])"
            ]
          },
          "metadata": {},
          "execution_count": 69
        }
      ]
    },
    {
      "cell_type": "code",
      "source": [
        "X = imputer.transform(housing_num)"
      ],
      "metadata": {
        "id": "Ft5K-YyEj3Z6"
      },
      "execution_count": 70,
      "outputs": []
    },
    {
      "cell_type": "code",
      "source": [
        "housing_tr = pd.DataFrame(X, columns=housing_num.columns)\n",
        "housing_tr.info()"
      ],
      "metadata": {
        "colab": {
          "base_uri": "https://localhost:8080/"
        },
        "id": "MHIMnpZmj_eL",
        "outputId": "16b5784f-3691-4303-efe4-38948efcdbe3"
      },
      "execution_count": 72,
      "outputs": [
        {
          "output_type": "stream",
          "name": "stdout",
          "text": [
            "<class 'pandas.core.frame.DataFrame'>\n",
            "RangeIndex: 16512 entries, 0 to 16511\n",
            "Data columns (total 8 columns):\n",
            " #   Column              Non-Null Count  Dtype  \n",
            "---  ------              --------------  -----  \n",
            " 0   longitude           16512 non-null  float64\n",
            " 1   latitude            16512 non-null  float64\n",
            " 2   housing_median_age  16512 non-null  float64\n",
            " 3   total_rooms         16512 non-null  float64\n",
            " 4   total_bedrooms      16512 non-null  float64\n",
            " 5   population          16512 non-null  float64\n",
            " 6   households          16512 non-null  float64\n",
            " 7   median_income       16512 non-null  float64\n",
            "dtypes: float64(8)\n",
            "memory usage: 1.0 MB\n"
          ]
        }
      ]
    },
    {
      "cell_type": "code",
      "source": [
        "from sklearn.preprocessing import OneHotEncoder\n",
        "\n",
        "cat_encoder = OneHotEncoder(sparse=False)\n",
        "housing_cat_1hot = cat_encoder.fit_transform(housing_tr)\n",
        "housing_cat_1hot"
      ],
      "metadata": {
        "colab": {
          "base_uri": "https://localhost:8080/"
        },
        "id": "Bw7VrUUEkKsN",
        "outputId": "67a74629-9b2c-4826-ebb3-7dcccda4c235"
      },
      "execution_count": 75,
      "outputs": [
        {
          "output_type": "execute_result",
          "data": {
            "text/plain": [
              "array([[0., 0., 0., ..., 0., 0., 0.],\n",
              "       [0., 0., 0., ..., 0., 0., 0.],\n",
              "       [0., 0., 0., ..., 0., 0., 0.],\n",
              "       ...,\n",
              "       [0., 0., 0., ..., 0., 0., 0.],\n",
              "       [0., 0., 0., ..., 0., 0., 0.],\n",
              "       [0., 0., 0., ..., 0., 0., 0.]])"
            ]
          },
          "metadata": {},
          "execution_count": 75
        }
      ]
    },
    {
      "cell_type": "code",
      "source": [
        "cat_encoder.categories_"
      ],
      "metadata": {
        "colab": {
          "base_uri": "https://localhost:8080/"
        },
        "id": "3Eo1kbSIkrvz",
        "outputId": "65655152-4a2a-4f20-ec7a-95ff5e75e99c"
      },
      "execution_count": 76,
      "outputs": [
        {
          "output_type": "execute_result",
          "data": {
            "text/plain": [
              "[array([-124.35, -124.3 , -124.27, -124.25, -124.23, -124.22, -124.21,\n",
              "        -124.19, -124.18, -124.17, -124.16, -124.15, -124.14, -124.13,\n",
              "        -124.11, -124.1 , -124.09, -124.08, -124.07, -124.06, -124.05,\n",
              "        -124.03, -124.02, -124.  , -123.98, -123.96, -123.92, -123.88,\n",
              "        -123.85, -123.84, -123.83, -123.82, -123.81, -123.8 , -123.79,\n",
              "        -123.78, -123.76, -123.75, -123.74, -123.73, -123.72, -123.71,\n",
              "        -123.7 , -123.69, -123.68, -123.66, -123.64, -123.63, -123.59,\n",
              "        -123.54, -123.53, -123.52, -123.5 , -123.49, -123.48, -123.47,\n",
              "        -123.43, -123.41, -123.4 , -123.38, -123.36, -123.35, -123.34,\n",
              "        -123.32, -123.28, -123.25, -123.24, -123.23, -123.22, -123.21,\n",
              "        -123.2 , -123.19, -123.18, -123.17, -123.16, -123.15, -123.13,\n",
              "        -123.12, -123.11, -123.1 , -123.08, -123.07, -123.03, -123.02,\n",
              "        -123.01, -123.  , -122.99, -122.97, -122.96, -122.95, -122.94,\n",
              "        -122.93, -122.92, -122.91, -122.9 , -122.89, -122.88, -122.87,\n",
              "        -122.86, -122.85, -122.84, -122.83, -122.82, -122.81, -122.8 ,\n",
              "        -122.79, -122.78, -122.77, -122.76, -122.75, -122.74, -122.73,\n",
              "        -122.72, -122.71, -122.7 , -122.69, -122.68, -122.67, -122.66,\n",
              "        -122.65, -122.64, -122.63, -122.62, -122.61, -122.6 , -122.59,\n",
              "        -122.58, -122.57, -122.56, -122.55, -122.54, -122.53, -122.52,\n",
              "        -122.51, -122.5 , -122.49, -122.48, -122.47, -122.46, -122.45,\n",
              "        -122.44, -122.43, -122.42, -122.41, -122.4 , -122.39, -122.38,\n",
              "        -122.37, -122.36, -122.35, -122.34, -122.33, -122.32, -122.31,\n",
              "        -122.3 , -122.29, -122.28, -122.27, -122.26, -122.25, -122.24,\n",
              "        -122.23, -122.22, -122.21, -122.2 , -122.19, -122.18, -122.17,\n",
              "        -122.16, -122.15, -122.14, -122.13, -122.12, -122.11, -122.1 ,\n",
              "        -122.09, -122.08, -122.07, -122.06, -122.05, -122.04, -122.03,\n",
              "        -122.02, -122.01, -122.  , -121.99, -121.98, -121.97, -121.96,\n",
              "        -121.95, -121.94, -121.93, -121.92, -121.91, -121.9 , -121.89,\n",
              "        -121.88, -121.87, -121.86, -121.85, -121.84, -121.83, -121.82,\n",
              "        -121.81, -121.8 , -121.79, -121.78, -121.77, -121.76, -121.75,\n",
              "        -121.74, -121.73, -121.72, -121.71, -121.7 , -121.69, -121.68,\n",
              "        -121.67, -121.66, -121.65, -121.64, -121.63, -121.62, -121.61,\n",
              "        -121.6 , -121.59, -121.58, -121.57, -121.56, -121.55, -121.54,\n",
              "        -121.53, -121.52, -121.51, -121.5 , -121.49, -121.48, -121.47,\n",
              "        -121.46, -121.45, -121.44, -121.43, -121.42, -121.41, -121.4 ,\n",
              "        -121.39, -121.38, -121.37, -121.36, -121.35, -121.34, -121.33,\n",
              "        -121.32, -121.31, -121.3 , -121.29, -121.28, -121.27, -121.26,\n",
              "        -121.25, -121.24, -121.23, -121.22, -121.21, -121.2 , -121.19,\n",
              "        -121.18, -121.17, -121.16, -121.15, -121.14, -121.13, -121.12,\n",
              "        -121.11, -121.1 , -121.09, -121.08, -121.07, -121.06, -121.05,\n",
              "        -121.04, -121.03, -121.02, -121.01, -121.  , -120.99, -120.98,\n",
              "        -120.97, -120.96, -120.95, -120.94, -120.93, -120.92, -120.91,\n",
              "        -120.9 , -120.89, -120.88, -120.87, -120.86, -120.85, -120.84,\n",
              "        -120.83, -120.82, -120.81, -120.8 , -120.79, -120.78, -120.77,\n",
              "        -120.76, -120.75, -120.74, -120.73, -120.72, -120.71, -120.7 ,\n",
              "        -120.69, -120.68, -120.67, -120.66, -120.65, -120.64, -120.63,\n",
              "        -120.62, -120.61, -120.6 , -120.59, -120.58, -120.57, -120.56,\n",
              "        -120.55, -120.54, -120.53, -120.52, -120.51, -120.5 , -120.49,\n",
              "        -120.48, -120.47, -120.46, -120.45, -120.44, -120.43, -120.42,\n",
              "        -120.41, -120.4 , -120.39, -120.38, -120.37, -120.36, -120.35,\n",
              "        -120.34, -120.33, -120.32, -120.31, -120.3 , -120.29, -120.28,\n",
              "        -120.27, -120.26, -120.25, -120.24, -120.23, -120.22, -120.21,\n",
              "        -120.2 , -120.19, -120.18, -120.17, -120.16, -120.15, -120.14,\n",
              "        -120.13, -120.12, -120.11, -120.1 , -120.09, -120.08, -120.07,\n",
              "        -120.06, -120.05, -120.04, -120.03, -120.02, -120.01, -120.  ,\n",
              "        -119.99, -119.98, -119.97, -119.96, -119.95, -119.94, -119.93,\n",
              "        -119.92, -119.91, -119.9 , -119.89, -119.88, -119.87, -119.86,\n",
              "        -119.85, -119.84, -119.83, -119.82, -119.81, -119.8 , -119.79,\n",
              "        -119.78, -119.77, -119.76, -119.75, -119.74, -119.73, -119.72,\n",
              "        -119.71, -119.7 , -119.69, -119.68, -119.67, -119.66, -119.65,\n",
              "        -119.64, -119.63, -119.62, -119.61, -119.6 , -119.59, -119.58,\n",
              "        -119.57, -119.56, -119.55, -119.54, -119.53, -119.52, -119.51,\n",
              "        -119.5 , -119.49, -119.48, -119.47, -119.46, -119.45, -119.44,\n",
              "        -119.43, -119.42, -119.41, -119.4 , -119.39, -119.38, -119.37,\n",
              "        -119.36, -119.35, -119.34, -119.33, -119.32, -119.31, -119.3 ,\n",
              "        -119.29, -119.28, -119.27, -119.26, -119.25, -119.24, -119.23,\n",
              "        -119.22, -119.21, -119.2 , -119.19, -119.18, -119.17, -119.16,\n",
              "        -119.15, -119.14, -119.13, -119.12, -119.11, -119.1 , -119.09,\n",
              "        -119.08, -119.07, -119.06, -119.05, -119.04, -119.03, -119.02,\n",
              "        -119.01, -119.  , -118.99, -118.98, -118.97, -118.96, -118.95,\n",
              "        -118.94, -118.93, -118.92, -118.91, -118.9 , -118.89, -118.88,\n",
              "        -118.87, -118.86, -118.85, -118.84, -118.83, -118.82, -118.81,\n",
              "        -118.8 , -118.79, -118.78, -118.77, -118.76, -118.75, -118.74,\n",
              "        -118.73, -118.72, -118.71, -118.7 , -118.69, -118.68, -118.67,\n",
              "        -118.66, -118.65, -118.64, -118.63, -118.62, -118.61, -118.6 ,\n",
              "        -118.59, -118.58, -118.57, -118.56, -118.55, -118.54, -118.53,\n",
              "        -118.52, -118.51, -118.5 , -118.49, -118.48, -118.47, -118.46,\n",
              "        -118.45, -118.44, -118.43, -118.42, -118.41, -118.4 , -118.39,\n",
              "        -118.38, -118.37, -118.36, -118.35, -118.34, -118.33, -118.32,\n",
              "        -118.31, -118.3 , -118.29, -118.28, -118.27, -118.26, -118.25,\n",
              "        -118.24, -118.23, -118.22, -118.21, -118.2 , -118.19, -118.18,\n",
              "        -118.17, -118.16, -118.15, -118.14, -118.13, -118.12, -118.11,\n",
              "        -118.1 , -118.09, -118.08, -118.07, -118.06, -118.05, -118.04,\n",
              "        -118.03, -118.02, -118.01, -118.  , -117.99, -117.98, -117.97,\n",
              "        -117.96, -117.95, -117.94, -117.93, -117.92, -117.91, -117.9 ,\n",
              "        -117.89, -117.88, -117.87, -117.86, -117.85, -117.84, -117.83,\n",
              "        -117.82, -117.81, -117.8 , -117.79, -117.78, -117.77, -117.76,\n",
              "        -117.75, -117.74, -117.73, -117.72, -117.71, -117.7 , -117.69,\n",
              "        -117.68, -117.67, -117.66, -117.65, -117.64, -117.63, -117.62,\n",
              "        -117.61, -117.6 , -117.59, -117.58, -117.57, -117.56, -117.55,\n",
              "        -117.54, -117.53, -117.52, -117.51, -117.5 , -117.49, -117.48,\n",
              "        -117.47, -117.46, -117.45, -117.44, -117.43, -117.42, -117.41,\n",
              "        -117.4 , -117.39, -117.38, -117.37, -117.36, -117.35, -117.34,\n",
              "        -117.33, -117.32, -117.31, -117.3 , -117.29, -117.28, -117.27,\n",
              "        -117.26, -117.25, -117.24, -117.23, -117.22, -117.21, -117.2 ,\n",
              "        -117.19, -117.18, -117.17, -117.16, -117.15, -117.14, -117.13,\n",
              "        -117.12, -117.11, -117.1 , -117.09, -117.08, -117.07, -117.06,\n",
              "        -117.05, -117.04, -117.03, -117.02, -117.01, -117.  , -116.99,\n",
              "        -116.98, -116.97, -116.96, -116.95, -116.94, -116.93, -116.92,\n",
              "        -116.91, -116.9 , -116.89, -116.88, -116.87, -116.86, -116.85,\n",
              "        -116.84, -116.83, -116.82, -116.81, -116.8 , -116.79, -116.78,\n",
              "        -116.77, -116.76, -116.75, -116.74, -116.73, -116.72, -116.71,\n",
              "        -116.68, -116.67, -116.66, -116.63, -116.62, -116.61, -116.6 ,\n",
              "        -116.58, -116.57, -116.56, -116.55, -116.54, -116.53, -116.52,\n",
              "        -116.51, -116.5 , -116.49, -116.48, -116.47, -116.46, -116.45,\n",
              "        -116.44, -116.43, -116.42, -116.41, -116.4 , -116.39, -116.38,\n",
              "        -116.37, -116.36, -116.35, -116.34, -116.33, -116.32, -116.31,\n",
              "        -116.3 , -116.29, -116.28, -116.27, -116.26, -116.25, -116.24,\n",
              "        -116.23, -116.22, -116.21, -116.2 , -116.19, -116.18, -116.17,\n",
              "        -116.16, -116.15, -116.14, -116.09, -116.08, -116.06, -116.05,\n",
              "        -116.01, -116.  , -115.99, -115.98, -115.96, -115.95, -115.94,\n",
              "        -115.93, -115.91, -115.9 , -115.88, -115.85, -115.8 , -115.75,\n",
              "        -115.73, -115.69, -115.64, -115.62, -115.6 , -115.59, -115.58,\n",
              "        -115.57, -115.56, -115.55, -115.54, -115.53, -115.52, -115.51,\n",
              "        -115.5 , -115.49, -115.48, -115.41, -115.4 , -115.38, -115.37,\n",
              "        -115.32, -115.22, -114.98, -114.94, -114.73, -114.68, -114.67,\n",
              "        -114.66, -114.65, -114.64, -114.63, -114.62, -114.61, -114.6 ,\n",
              "        -114.59, -114.58, -114.57, -114.56, -114.55, -114.49, -114.47]),\n",
              " array([32.54, 32.55, 32.56, 32.57, 32.58, 32.59, 32.6 , 32.61, 32.62,\n",
              "        32.63, 32.64, 32.65, 32.66, 32.67, 32.68, 32.69, 32.7 , 32.71,\n",
              "        32.72, 32.73, 32.74, 32.75, 32.76, 32.77, 32.78, 32.79, 32.8 ,\n",
              "        32.81, 32.82, 32.83, 32.84, 32.85, 32.86, 32.87, 32.88, 32.89,\n",
              "        32.9 , 32.91, 32.92, 32.93, 32.94, 32.95, 32.96, 32.97, 32.98,\n",
              "        32.99, 33.  , 33.01, 33.02, 33.03, 33.04, 33.05, 33.06, 33.07,\n",
              "        33.08, 33.09, 33.1 , 33.11, 33.12, 33.13, 33.14, 33.15, 33.16,\n",
              "        33.17, 33.18, 33.19, 33.2 , 33.21, 33.22, 33.23, 33.24, 33.25,\n",
              "        33.26, 33.27, 33.28, 33.29, 33.3 , 33.31, 33.32, 33.33, 33.34,\n",
              "        33.35, 33.36, 33.37, 33.38, 33.39, 33.4 , 33.41, 33.42, 33.43,\n",
              "        33.44, 33.45, 33.46, 33.47, 33.48, 33.49, 33.5 , 33.51, 33.52,\n",
              "        33.53, 33.54, 33.55, 33.56, 33.57, 33.58, 33.59, 33.6 , 33.61,\n",
              "        33.62, 33.63, 33.64, 33.65, 33.66, 33.67, 33.68, 33.69, 33.7 ,\n",
              "        33.71, 33.72, 33.73, 33.74, 33.75, 33.76, 33.77, 33.78, 33.79,\n",
              "        33.8 , 33.81, 33.82, 33.83, 33.84, 33.85, 33.86, 33.87, 33.88,\n",
              "        33.89, 33.9 , 33.91, 33.92, 33.93, 33.94, 33.95, 33.96, 33.97,\n",
              "        33.98, 33.99, 34.  , 34.01, 34.02, 34.03, 34.04, 34.05, 34.06,\n",
              "        34.07, 34.08, 34.09, 34.1 , 34.11, 34.12, 34.13, 34.14, 34.15,\n",
              "        34.16, 34.17, 34.18, 34.19, 34.2 , 34.21, 34.22, 34.23, 34.24,\n",
              "        34.25, 34.26, 34.27, 34.28, 34.29, 34.3 , 34.31, 34.32, 34.33,\n",
              "        34.34, 34.35, 34.36, 34.37, 34.38, 34.39, 34.4 , 34.41, 34.42,\n",
              "        34.43, 34.44, 34.45, 34.46, 34.47, 34.48, 34.49, 34.5 , 34.51,\n",
              "        34.52, 34.53, 34.54, 34.55, 34.56, 34.57, 34.58, 34.59, 34.6 ,\n",
              "        34.61, 34.62, 34.63, 34.64, 34.65, 34.66, 34.67, 34.68, 34.69,\n",
              "        34.7 , 34.71, 34.72, 34.73, 34.74, 34.75, 34.76, 34.77, 34.81,\n",
              "        34.82, 34.83, 34.84, 34.85, 34.86, 34.87, 34.88, 34.89, 34.9 ,\n",
              "        34.91, 34.92, 34.93, 34.94, 34.95, 34.96, 34.97, 34.98, 34.99,\n",
              "        35.  , 35.02, 35.03, 35.04, 35.05, 35.06, 35.07, 35.08, 35.1 ,\n",
              "        35.11, 35.12, 35.13, 35.14, 35.15, 35.16, 35.17, 35.18, 35.19,\n",
              "        35.2 , 35.21, 35.22, 35.23, 35.24, 35.25, 35.26, 35.27, 35.28,\n",
              "        35.29, 35.3 , 35.31, 35.32, 35.33, 35.34, 35.35, 35.36, 35.37,\n",
              "        35.38, 35.39, 35.4 , 35.41, 35.42, 35.43, 35.44, 35.45, 35.46,\n",
              "        35.47, 35.48, 35.49, 35.5 , 35.51, 35.52, 35.54, 35.55, 35.56,\n",
              "        35.58, 35.59, 35.6 , 35.61, 35.62, 35.63, 35.64, 35.65, 35.67,\n",
              "        35.68, 35.69, 35.7 , 35.72, 35.73, 35.74, 35.75, 35.76, 35.77,\n",
              "        35.78, 35.79, 35.82, 35.85, 35.86, 35.87, 35.88, 35.89, 35.9 ,\n",
              "        35.91, 35.94, 35.95, 35.96, 35.97, 35.99, 36.01, 36.02, 36.04,\n",
              "        36.05, 36.06, 36.07, 36.08, 36.09, 36.1 , 36.11, 36.12, 36.13,\n",
              "        36.14, 36.15, 36.16, 36.18, 36.19, 36.2 , 36.21, 36.22, 36.23,\n",
              "        36.24, 36.25, 36.27, 36.28, 36.29, 36.3 , 36.31, 36.32, 36.33,\n",
              "        36.34, 36.35, 36.36, 36.37, 36.38, 36.39, 36.4 , 36.41, 36.42,\n",
              "        36.43, 36.44, 36.45, 36.46, 36.47, 36.48, 36.49, 36.5 , 36.51,\n",
              "        36.52, 36.53, 36.54, 36.55, 36.56, 36.57, 36.58, 36.59, 36.6 ,\n",
              "        36.61, 36.62, 36.63, 36.64, 36.65, 36.66, 36.67, 36.68, 36.69,\n",
              "        36.7 , 36.71, 36.72, 36.73, 36.74, 36.75, 36.76, 36.77, 36.78,\n",
              "        36.79, 36.8 , 36.81, 36.82, 36.83, 36.84, 36.85, 36.86, 36.87,\n",
              "        36.88, 36.89, 36.9 , 36.91, 36.92, 36.93, 36.94, 36.95, 36.96,\n",
              "        36.97, 36.98, 36.99, 37.  , 37.01, 37.02, 37.03, 37.04, 37.05,\n",
              "        37.06, 37.07, 37.08, 37.09, 37.1 , 37.11, 37.12, 37.13, 37.14,\n",
              "        37.15, 37.16, 37.18, 37.19, 37.2 , 37.21, 37.22, 37.23, 37.24,\n",
              "        37.25, 37.26, 37.27, 37.28, 37.29, 37.3 , 37.31, 37.32, 37.33,\n",
              "        37.34, 37.35, 37.36, 37.37, 37.38, 37.39, 37.4 , 37.41, 37.42,\n",
              "        37.43, 37.44, 37.45, 37.46, 37.47, 37.48, 37.49, 37.5 , 37.51,\n",
              "        37.52, 37.53, 37.54, 37.55, 37.56, 37.57, 37.58, 37.59, 37.6 ,\n",
              "        37.61, 37.62, 37.63, 37.64, 37.65, 37.66, 37.67, 37.68, 37.69,\n",
              "        37.7 , 37.71, 37.72, 37.73, 37.74, 37.75, 37.76, 37.77, 37.78,\n",
              "        37.79, 37.8 , 37.81, 37.82, 37.83, 37.84, 37.85, 37.86, 37.87,\n",
              "        37.88, 37.89, 37.9 , 37.91, 37.92, 37.93, 37.94, 37.95, 37.96,\n",
              "        37.97, 37.98, 37.99, 38.  , 38.01, 38.02, 38.03, 38.04, 38.05,\n",
              "        38.06, 38.07, 38.08, 38.09, 38.1 , 38.11, 38.12, 38.13, 38.14,\n",
              "        38.15, 38.16, 38.17, 38.18, 38.19, 38.2 , 38.21, 38.22, 38.23,\n",
              "        38.24, 38.25, 38.26, 38.27, 38.28, 38.29, 38.3 , 38.31, 38.32,\n",
              "        38.33, 38.34, 38.35, 38.36, 38.37, 38.38, 38.39, 38.4 , 38.41,\n",
              "        38.42, 38.43, 38.44, 38.45, 38.46, 38.47, 38.48, 38.49, 38.5 ,\n",
              "        38.51, 38.52, 38.53, 38.54, 38.55, 38.56, 38.57, 38.58, 38.59,\n",
              "        38.6 , 38.61, 38.62, 38.63, 38.64, 38.65, 38.66, 38.67, 38.68,\n",
              "        38.69, 38.7 , 38.71, 38.72, 38.73, 38.74, 38.75, 38.76, 38.77,\n",
              "        38.78, 38.79, 38.8 , 38.81, 38.82, 38.83, 38.84, 38.85, 38.86,\n",
              "        38.87, 38.88, 38.89, 38.9 , 38.91, 38.92, 38.93, 38.94, 38.95,\n",
              "        38.96, 38.97, 38.98, 38.99, 39.  , 39.01, 39.02, 39.03, 39.04,\n",
              "        39.05, 39.06, 39.07, 39.08, 39.09, 39.1 , 39.11, 39.12, 39.13,\n",
              "        39.14, 39.15, 39.16, 39.17, 39.18, 39.19, 39.2 , 39.21, 39.22,\n",
              "        39.23, 39.24, 39.25, 39.26, 39.27, 39.28, 39.29, 39.3 , 39.31,\n",
              "        39.32, 39.33, 39.34, 39.35, 39.36, 39.37, 39.39, 39.4 , 39.41,\n",
              "        39.42, 39.43, 39.44, 39.45, 39.46, 39.47, 39.48, 39.49, 39.5 ,\n",
              "        39.51, 39.52, 39.53, 39.54, 39.55, 39.56, 39.59, 39.6 , 39.61,\n",
              "        39.63, 39.64, 39.65, 39.66, 39.67, 39.68, 39.69, 39.7 , 39.71,\n",
              "        39.72, 39.73, 39.74, 39.75, 39.76, 39.77, 39.78, 39.79, 39.8 ,\n",
              "        39.81, 39.82, 39.83, 39.86, 39.88, 39.9 , 39.91, 39.92, 39.93,\n",
              "        39.94, 39.95, 39.96, 39.97, 40.01, 40.02, 40.03, 40.05, 40.06,\n",
              "        40.07, 40.09, 40.11, 40.12, 40.13, 40.14, 40.15, 40.16, 40.17,\n",
              "        40.18, 40.19, 40.2 , 40.22, 40.23, 40.24, 40.25, 40.26, 40.27,\n",
              "        40.28, 40.29, 40.31, 40.32, 40.34, 40.35, 40.36, 40.37, 40.38,\n",
              "        40.39, 40.4 , 40.41, 40.42, 40.43, 40.44, 40.45, 40.46, 40.47,\n",
              "        40.48, 40.49, 40.5 , 40.51, 40.52, 40.53, 40.54, 40.55, 40.56,\n",
              "        40.57, 40.58, 40.59, 40.6 , 40.61, 40.62, 40.63, 40.64, 40.65,\n",
              "        40.66, 40.67, 40.68, 40.69, 40.71, 40.72, 40.73, 40.74, 40.75,\n",
              "        40.76, 40.77, 40.78, 40.79, 40.8 , 40.81, 40.82, 40.85, 40.86,\n",
              "        40.87, 40.88, 40.89, 40.9 , 40.91, 40.92, 40.93, 40.94, 40.95,\n",
              "        40.97, 40.99, 41.01, 41.02, 41.03, 41.04, 41.06, 41.07, 41.09,\n",
              "        41.11, 41.12, 41.13, 41.15, 41.2 , 41.21, 41.23, 41.26, 41.28,\n",
              "        41.3 , 41.31, 41.32, 41.35, 41.36, 41.41, 41.43, 41.46, 41.48,\n",
              "        41.5 , 41.53, 41.54, 41.6 , 41.61, 41.63, 41.66, 41.72, 41.73,\n",
              "        41.74, 41.75, 41.76, 41.78, 41.8 , 41.81, 41.82, 41.84, 41.86,\n",
              "        41.88, 41.92, 41.95]),\n",
              " array([ 1.,  2.,  3.,  4.,  5.,  6.,  7.,  8.,  9., 10., 11., 12., 13.,\n",
              "        14., 15., 16., 17., 18., 19., 20., 21., 22., 23., 24., 25., 26.,\n",
              "        27., 28., 29., 30., 31., 32., 33., 34., 35., 36., 37., 38., 39.,\n",
              "        40., 41., 42., 43., 44., 45., 46., 47., 48., 49., 50., 51., 52.]),\n",
              " array([2.0000e+00, 6.0000e+00, 8.0000e+00, ..., 3.2054e+04, 3.2627e+04,\n",
              "        3.7937e+04]),\n",
              " array([1.000e+00, 2.000e+00, 3.000e+00, ..., 5.419e+03, 5.471e+03,\n",
              "        6.445e+03]),\n",
              " array([3.0000e+00, 5.0000e+00, 6.0000e+00, ..., 1.6122e+04, 2.8566e+04,\n",
              "        3.5682e+04]),\n",
              " array([1.000e+00, 2.000e+00, 3.000e+00, ..., 5.050e+03, 5.189e+03,\n",
              "        6.082e+03]),\n",
              " array([ 0.4999,  0.536 ,  0.5495, ..., 14.9009, 15.    , 15.0001])]"
            ]
          },
          "metadata": {},
          "execution_count": 76
        }
      ]
    },
    {
      "cell_type": "code",
      "source": [
        "rooms_ix, bedrooms_ix, population_ix, households_ix = 3, 4, 5, 6\n",
        "\n",
        "class CombinedAttributesAdder(BaseEstimator, TransformerMixin):\n",
        "     \n",
        "     def __init__(self, add_bedrooms_per_room = True): \n",
        "        self.add_bedrooms_per_room = add_bedrooms_per_room\n",
        "     \n",
        "     def fit(self, X, y = None):\n",
        "        return self \n",
        "     \n",
        "     def transform(self, X, y = None):\n",
        "          rooms_per_household = X[:, rooms_ix] / X[:, households_ix]\n",
        "          population_per_household = X[:, population_ix] / X[:, households_ix]\n",
        "          if self.add_bedrooms_per_room:\n",
        "            bedrooms_per_room = X[:, bedrooms_ix] / X[:, rooms_ix]\n",
        "            return np.c_[X, rooms_per_household, population_per_household,bedrooms_per_room]\n",
        "          else:\n",
        "            return np.c_[X, rooms_per_household, population_per_household]\n",
        "\n",
        "attr_adder = CombinedAttributesAdder(add_bedrooms_per_room=False)\n",
        "housing_extra_attribs = attr_adder.transform(dataset.values)"
      ],
      "metadata": {
        "id": "0HvQDJIsloYb"
      },
      "execution_count": 79,
      "outputs": []
    },
    {
      "cell_type": "code",
      "source": [
        "housing_extra_attribs = pd.DataFrame(housing_extra_attribs,columns=list(dataset.columns)+[\"rooms_per_household\", \"population_per_household\"])\n",
        "housing_extra_attribs.head()"
      ],
      "metadata": {
        "colab": {
          "base_uri": "https://localhost:8080/",
          "height": 270
        },
        "id": "34TEkd0um6yG",
        "outputId": "f5d3e78c-6d3c-4980-9efc-ee2fc4b15e0a"
      },
      "execution_count": 80,
      "outputs": [
        {
          "output_type": "execute_result",
          "data": {
            "text/plain": [
              "  longitude latitude housing_median_age total_rooms total_bedrooms population  \\\n",
              "0   -122.87    38.48               27.0      3894.0          776.0     1832.0   \n",
              "1   -118.34    34.02               49.0      1609.0          371.0      896.0   \n",
              "2   -122.42    37.79               52.0      3364.0         1100.0     2112.0   \n",
              "3   -119.08    35.32                8.0     11609.0         2141.0     5696.0   \n",
              "4   -121.62    41.78               40.0      3272.0          663.0     1467.0   \n",
              "\n",
              "  households median_income ocean_proximity rooms_per_household  \\\n",
              "0      715.0        3.5085       <1H OCEAN            5.446154   \n",
              "1      389.0        2.5156       <1H OCEAN            4.136247   \n",
              "2     1045.0        2.1343        NEAR BAY            3.219139   \n",
              "3     2100.0        5.0012          INLAND            5.528095   \n",
              "4      553.0        1.7885          INLAND            5.916817   \n",
              "\n",
              "  population_per_household  \n",
              "0                 2.562238  \n",
              "1                 2.303342  \n",
              "2                 2.021053  \n",
              "3                 2.712381  \n",
              "4                 2.652803  "
            ],
            "text/html": [
              "\n",
              "  <div id=\"df-29227e95-ae94-453e-bfcb-b490eaa23748\">\n",
              "    <div class=\"colab-df-container\">\n",
              "      <div>\n",
              "<style scoped>\n",
              "    .dataframe tbody tr th:only-of-type {\n",
              "        vertical-align: middle;\n",
              "    }\n",
              "\n",
              "    .dataframe tbody tr th {\n",
              "        vertical-align: top;\n",
              "    }\n",
              "\n",
              "    .dataframe thead th {\n",
              "        text-align: right;\n",
              "    }\n",
              "</style>\n",
              "<table border=\"1\" class=\"dataframe\">\n",
              "  <thead>\n",
              "    <tr style=\"text-align: right;\">\n",
              "      <th></th>\n",
              "      <th>longitude</th>\n",
              "      <th>latitude</th>\n",
              "      <th>housing_median_age</th>\n",
              "      <th>total_rooms</th>\n",
              "      <th>total_bedrooms</th>\n",
              "      <th>population</th>\n",
              "      <th>households</th>\n",
              "      <th>median_income</th>\n",
              "      <th>ocean_proximity</th>\n",
              "      <th>rooms_per_household</th>\n",
              "      <th>population_per_household</th>\n",
              "    </tr>\n",
              "  </thead>\n",
              "  <tbody>\n",
              "    <tr>\n",
              "      <th>0</th>\n",
              "      <td>-122.87</td>\n",
              "      <td>38.48</td>\n",
              "      <td>27.0</td>\n",
              "      <td>3894.0</td>\n",
              "      <td>776.0</td>\n",
              "      <td>1832.0</td>\n",
              "      <td>715.0</td>\n",
              "      <td>3.5085</td>\n",
              "      <td>&lt;1H OCEAN</td>\n",
              "      <td>5.446154</td>\n",
              "      <td>2.562238</td>\n",
              "    </tr>\n",
              "    <tr>\n",
              "      <th>1</th>\n",
              "      <td>-118.34</td>\n",
              "      <td>34.02</td>\n",
              "      <td>49.0</td>\n",
              "      <td>1609.0</td>\n",
              "      <td>371.0</td>\n",
              "      <td>896.0</td>\n",
              "      <td>389.0</td>\n",
              "      <td>2.5156</td>\n",
              "      <td>&lt;1H OCEAN</td>\n",
              "      <td>4.136247</td>\n",
              "      <td>2.303342</td>\n",
              "    </tr>\n",
              "    <tr>\n",
              "      <th>2</th>\n",
              "      <td>-122.42</td>\n",
              "      <td>37.79</td>\n",
              "      <td>52.0</td>\n",
              "      <td>3364.0</td>\n",
              "      <td>1100.0</td>\n",
              "      <td>2112.0</td>\n",
              "      <td>1045.0</td>\n",
              "      <td>2.1343</td>\n",
              "      <td>NEAR BAY</td>\n",
              "      <td>3.219139</td>\n",
              "      <td>2.021053</td>\n",
              "    </tr>\n",
              "    <tr>\n",
              "      <th>3</th>\n",
              "      <td>-119.08</td>\n",
              "      <td>35.32</td>\n",
              "      <td>8.0</td>\n",
              "      <td>11609.0</td>\n",
              "      <td>2141.0</td>\n",
              "      <td>5696.0</td>\n",
              "      <td>2100.0</td>\n",
              "      <td>5.0012</td>\n",
              "      <td>INLAND</td>\n",
              "      <td>5.528095</td>\n",
              "      <td>2.712381</td>\n",
              "    </tr>\n",
              "    <tr>\n",
              "      <th>4</th>\n",
              "      <td>-121.62</td>\n",
              "      <td>41.78</td>\n",
              "      <td>40.0</td>\n",
              "      <td>3272.0</td>\n",
              "      <td>663.0</td>\n",
              "      <td>1467.0</td>\n",
              "      <td>553.0</td>\n",
              "      <td>1.7885</td>\n",
              "      <td>INLAND</td>\n",
              "      <td>5.916817</td>\n",
              "      <td>2.652803</td>\n",
              "    </tr>\n",
              "  </tbody>\n",
              "</table>\n",
              "</div>\n",
              "      <button class=\"colab-df-convert\" onclick=\"convertToInteractive('df-29227e95-ae94-453e-bfcb-b490eaa23748')\"\n",
              "              title=\"Convert this dataframe to an interactive table.\"\n",
              "              style=\"display:none;\">\n",
              "        \n",
              "  <svg xmlns=\"http://www.w3.org/2000/svg\" height=\"24px\"viewBox=\"0 0 24 24\"\n",
              "       width=\"24px\">\n",
              "    <path d=\"M0 0h24v24H0V0z\" fill=\"none\"/>\n",
              "    <path d=\"M18.56 5.44l.94 2.06.94-2.06 2.06-.94-2.06-.94-.94-2.06-.94 2.06-2.06.94zm-11 1L8.5 8.5l.94-2.06 2.06-.94-2.06-.94L8.5 2.5l-.94 2.06-2.06.94zm10 10l.94 2.06.94-2.06 2.06-.94-2.06-.94-.94-2.06-.94 2.06-2.06.94z\"/><path d=\"M17.41 7.96l-1.37-1.37c-.4-.4-.92-.59-1.43-.59-.52 0-1.04.2-1.43.59L10.3 9.45l-7.72 7.72c-.78.78-.78 2.05 0 2.83L4 21.41c.39.39.9.59 1.41.59.51 0 1.02-.2 1.41-.59l7.78-7.78 2.81-2.81c.8-.78.8-2.07 0-2.86zM5.41 20L4 18.59l7.72-7.72 1.47 1.35L5.41 20z\"/>\n",
              "  </svg>\n",
              "      </button>\n",
              "      \n",
              "  <style>\n",
              "    .colab-df-container {\n",
              "      display:flex;\n",
              "      flex-wrap:wrap;\n",
              "      gap: 12px;\n",
              "    }\n",
              "\n",
              "    .colab-df-convert {\n",
              "      background-color: #E8F0FE;\n",
              "      border: none;\n",
              "      border-radius: 50%;\n",
              "      cursor: pointer;\n",
              "      display: none;\n",
              "      fill: #1967D2;\n",
              "      height: 32px;\n",
              "      padding: 0 0 0 0;\n",
              "      width: 32px;\n",
              "    }\n",
              "\n",
              "    .colab-df-convert:hover {\n",
              "      background-color: #E2EBFA;\n",
              "      box-shadow: 0px 1px 2px rgba(60, 64, 67, 0.3), 0px 1px 3px 1px rgba(60, 64, 67, 0.15);\n",
              "      fill: #174EA6;\n",
              "    }\n",
              "\n",
              "    [theme=dark] .colab-df-convert {\n",
              "      background-color: #3B4455;\n",
              "      fill: #D2E3FC;\n",
              "    }\n",
              "\n",
              "    [theme=dark] .colab-df-convert:hover {\n",
              "      background-color: #434B5C;\n",
              "      box-shadow: 0px 1px 3px 1px rgba(0, 0, 0, 0.15);\n",
              "      filter: drop-shadow(0px 1px 2px rgba(0, 0, 0, 0.3));\n",
              "      fill: #FFFFFF;\n",
              "    }\n",
              "  </style>\n",
              "\n",
              "      <script>\n",
              "        const buttonEl =\n",
              "          document.querySelector('#df-29227e95-ae94-453e-bfcb-b490eaa23748 button.colab-df-convert');\n",
              "        buttonEl.style.display =\n",
              "          google.colab.kernel.accessAllowed ? 'block' : 'none';\n",
              "\n",
              "        async function convertToInteractive(key) {\n",
              "          const element = document.querySelector('#df-29227e95-ae94-453e-bfcb-b490eaa23748');\n",
              "          const dataTable =\n",
              "            await google.colab.kernel.invokeFunction('convertToInteractive',\n",
              "                                                     [key], {});\n",
              "          if (!dataTable) return;\n",
              "\n",
              "          const docLinkHtml = 'Like what you see? Visit the ' +\n",
              "            '<a target=\"_blank\" href=https://colab.research.google.com/notebooks/data_table.ipynb>data table notebook</a>'\n",
              "            + ' to learn more about interactive tables.';\n",
              "          element.innerHTML = '';\n",
              "          dataTable['output_type'] = 'display_data';\n",
              "          await google.colab.output.renderOutput(dataTable, element);\n",
              "          const docLink = document.createElement('div');\n",
              "          docLink.innerHTML = docLinkHtml;\n",
              "          element.appendChild(docLink);\n",
              "        }\n",
              "      </script>\n",
              "    </div>\n",
              "  </div>\n",
              "  "
            ]
          },
          "metadata": {},
          "execution_count": 80
        }
      ]
    },
    {
      "cell_type": "code",
      "source": [
        "from sklearn.pipeline import Pipeline\n",
        "from sklearn.preprocessing import StandardScaler\n",
        "num_pipeline = Pipeline([('imputer', SimpleImputer(strategy=\"median\")),('attribs_adder', CombinedAttributesAdder()),('std_scaler', StandardScaler()),])\n",
        "housing_num_tr = num_pipeline.fit_transform(housing_num)\n",
        "housing_num_tr"
      ],
      "metadata": {
        "colab": {
          "base_uri": "https://localhost:8080/"
        },
        "id": "m97KdOO6nQ1H",
        "outputId": "93bae2a3-b5d0-4b3e-9512-3b77adb48706"
      },
      "execution_count": 81,
      "outputs": [
        {
          "output_type": "execute_result",
          "data": {
            "text/plain": [
              "array([[-1.65044886,  1.3366276 , -0.12821464, ...,  0.0083221 ,\n",
              "        -0.04696513, -0.2292273 ],\n",
              "       [ 0.6101325 , -0.7499318 ,  1.62466495, ..., -0.53552899,\n",
              "        -0.07066637,  0.26508551],\n",
              "       [-1.4258878 ,  1.01381909,  1.86369398, ..., -0.91629663,\n",
              "        -0.09650921,  1.78786516],\n",
              "       ...,\n",
              "       [-1.20631698,  0.74715118,  1.38563591, ...,  0.09886509,\n",
              "        -0.08990375, -0.3863338 ],\n",
              "       [ 0.7398789 , -0.81542918, -0.20789099, ...,  0.02237445,\n",
              "         0.02839822, -0.54696048],\n",
              "       [ 0.68997644, -0.85285626,  0.11081439, ..., -0.61012165,\n",
              "         0.10943301,  1.00222509]])"
            ]
          },
          "metadata": {},
          "execution_count": 81
        }
      ]
    },
    {
      "cell_type": "code",
      "source": [
        "from sklearn.compose import ColumnTransformer\n",
        "num_attribs = list(housing_num)\n",
        "cat_attribs = [\"ocean_proximity\"]\n",
        "full_pipeline = ColumnTransformer([(\"num\", num_pipeline, num_attribs),(\"cat\", OneHotEncoder(), cat_attribs),])\n",
        "housing_prepared = full_pipeline.fit_transform(dataset)\n",
        "housing_prepared.shape"
      ],
      "metadata": {
        "colab": {
          "base_uri": "https://localhost:8080/"
        },
        "id": "8OghxOmyngJe",
        "outputId": "b7014e23-981f-47ef-80e7-08115f19b9b5"
      },
      "execution_count": 83,
      "outputs": [
        {
          "output_type": "execute_result",
          "data": {
            "text/plain": [
              "(16512, 16)"
            ]
          },
          "metadata": {},
          "execution_count": 83
        }
      ]
    },
    {
      "cell_type": "code",
      "source": [
        "#Linear Regression\n",
        "\n",
        "from sklearn.linear_model import LinearRegression\n",
        "\n",
        "lin_reg = LinearRegression()\n",
        "lin_reg.fit(housing_prepared, dataset_labels)"
      ],
      "metadata": {
        "colab": {
          "base_uri": "https://localhost:8080/"
        },
        "id": "rI_cMdDXnrRg",
        "outputId": "77b4dd7a-bf5e-48fc-e14c-c35f4a0bf39e"
      },
      "execution_count": 84,
      "outputs": [
        {
          "output_type": "execute_result",
          "data": {
            "text/plain": [
              "LinearRegression()"
            ]
          },
          "metadata": {},
          "execution_count": 84
        }
      ]
    },
    {
      "cell_type": "code",
      "source": [
        "some_data = dataset.iloc[:5] \n",
        "some_labels = dataset_labels.iloc[:5] \n",
        "some_data_prepared = full_pipeline.transform(some_data)  \n",
        "print(\"Predictions:\", lin_reg.predict(some_data_prepared))"
      ],
      "metadata": {
        "colab": {
          "base_uri": "https://localhost:8080/"
        },
        "id": "LdYzHXISoNIF",
        "outputId": "f1204687-633d-436a-dcf9-107a3fda58a3"
      },
      "execution_count": 85,
      "outputs": [
        {
          "output_type": "stream",
          "name": "stdout",
          "text": [
            "Predictions: [227885.17864683 199641.86684096 250266.3411042  236655.89283764\n",
            "  11125.78759882]\n"
          ]
        }
      ]
    },
    {
      "cell_type": "code",
      "source": [
        "print(\"Labels:\", list(some_labels))"
      ],
      "metadata": {
        "colab": {
          "base_uri": "https://localhost:8080/"
        },
        "id": "3b4-qdjzoY-F",
        "outputId": "6a971281-b140-4e30-b388-9d5e7248ba2d"
      },
      "execution_count": 86,
      "outputs": [
        {
          "output_type": "stream",
          "name": "stdout",
          "text": [
            "Labels: [187800.0, 136600.0, 400000.0, 106300.0, 43500.0]\n"
          ]
        }
      ]
    },
    {
      "cell_type": "code",
      "source": [
        "from sklearn.metrics import mean_squared_error  \n",
        "\n",
        "housing_predictions = lin_reg.predict(housing_prepared) \n",
        "lin_mse = mean_squared_error(dataset_labels, housing_predictions) \n",
        "lin_rmse = np.sqrt(lin_mse) \n",
        "lin_rmse"
      ],
      "metadata": {
        "colab": {
          "base_uri": "https://localhost:8080/"
        },
        "id": "naWeGEmeocBm",
        "outputId": "33a92645-c073-44eb-f08b-3a8da6095566"
      },
      "execution_count": 87,
      "outputs": [
        {
          "output_type": "execute_result",
          "data": {
            "text/plain": [
              "68286.41923036716"
            ]
          },
          "metadata": {},
          "execution_count": 87
        }
      ]
    },
    {
      "cell_type": "code",
      "source": [
        "#Random Forest\n",
        "from sklearn.ensemble import RandomForestRegressor\n",
        "\n",
        "forest_reg = RandomForestRegressor(n_estimators=100, random_state=50)\n",
        "forest_reg.fit(housing_prepared, dataset_labels)"
      ],
      "metadata": {
        "colab": {
          "base_uri": "https://localhost:8080/"
        },
        "id": "PpiJjUMXokDe",
        "outputId": "6984fb58-292b-4bd7-9340-e5c4a7f7620b"
      },
      "execution_count": 89,
      "outputs": [
        {
          "output_type": "execute_result",
          "data": {
            "text/plain": [
              "RandomForestRegressor(random_state=50)"
            ]
          },
          "metadata": {},
          "execution_count": 89
        }
      ]
    },
    {
      "cell_type": "code",
      "source": [
        "housing_predictions = forest_reg.predict(housing_prepared) \n",
        "forest_mse = mean_squared_error(dataset_labels, housing_predictions) \n",
        "forest_rmse = np.sqrt(forest_mse) \n",
        "forest_rmse"
      ],
      "metadata": {
        "colab": {
          "base_uri": "https://localhost:8080/"
        },
        "id": "8VH9FBtwo5va",
        "outputId": "7adf079a-22ed-4192-ebad-72c29f1b0257"
      },
      "execution_count": 90,
      "outputs": [
        {
          "output_type": "execute_result",
          "data": {
            "text/plain": [
              "18541.510295026026"
            ]
          },
          "metadata": {},
          "execution_count": 90
        }
      ]
    },
    {
      "cell_type": "code",
      "source": [
        "#Support Vector Machine\n",
        "\n",
        "from sklearn.svm import SVR\n",
        "\n",
        "svm_reg = SVR(kernel=\"linear\")\n",
        "svm_reg.fit(housing_prepared, dataset_labels)\n",
        "housing_predictions = svm_reg.predict(housing_prepared)\n",
        "svm_mse = mean_squared_error(dataset_labels, housing_predictions)\n",
        "svm_rmse = np.sqrt(svm_mse)\n",
        "svm_rmse"
      ],
      "metadata": {
        "colab": {
          "base_uri": "https://localhost:8080/"
        },
        "id": "pp_mLQrVpcyv",
        "outputId": "fcabfb89-fef5-49b7-e749-f6249e085e15"
      },
      "execution_count": 92,
      "outputs": [
        {
          "output_type": "execute_result",
          "data": {
            "text/plain": [
              "110752.11963123486"
            ]
          },
          "metadata": {},
          "execution_count": 92
        }
      ]
    },
    {
      "cell_type": "code",
      "source": [],
      "metadata": {
        "id": "-Rxgnxpzqpkw"
      },
      "execution_count": null,
      "outputs": []
    }
  ]
}